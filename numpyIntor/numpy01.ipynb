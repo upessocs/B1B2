{
 "cells": [
  {
   "cell_type": "code",
   "execution_count": 6,
   "id": "8c5a100a-3f76-463f-9955-9b0b3e98742f",
   "metadata": {},
   "outputs": [],
   "source": [
    "%%capture\n",
    "\n",
    "!pip install numpy"
   ]
  },
  {
   "cell_type": "code",
   "execution_count": 7,
   "id": "54e0fcb4-6328-45d2-a136-f6f37c7d020f",
   "metadata": {},
   "outputs": [],
   "source": [
    "import numpy as np"
   ]
  },
  {
   "cell_type": "code",
   "execution_count": 13,
   "id": "f2d5e8d4-633b-4c02-9ddd-9cab39e66c30",
   "metadata": {},
   "outputs": [
    {
     "name": "stdout",
     "output_type": "stream",
     "text": [
      "[1, 2, 3]\n",
      "[1. 2. 3.]\n",
      "Data type: float64\n"
     ]
    }
   ],
   "source": [
    "list1 = [1, 2, 3]\n",
    "arr = np.array(list1, dtype = np.float64)\n",
    "\n",
    "print(list1)\n",
    "print(arr)\n",
    "print(\"Data type:\", arr.dtype)\n"
   ]
  },
  {
   "cell_type": "code",
   "execution_count": 14,
   "id": "6cc463eb-e657-46f2-8beb-1985104a5d28",
   "metadata": {},
   "outputs": [
    {
     "name": "stdout",
     "output_type": "stream",
     "text": [
      "Addition: [5 7 9]\n",
      "Subtraction: [-3 -3 -3]\n",
      "Multiplication: [ 4 10 18]\n",
      "Division: [0.25 0.4  0.5 ]\n"
     ]
    }
   ],
   "source": [
    "a = np.array([1, 2, 3])\n",
    "b = np.array([4, 5, 6])\n",
    "\n",
    "print(\"Addition:\", a + b)\n",
    "print(\"Subtraction:\", a - b)\n",
    "print(\"Multiplication:\", a * b)\n",
    "print(\"Division:\", a / b)\n"
   ]
  },
  {
   "cell_type": "code",
   "execution_count": 18,
   "id": "646e822d-75d7-4ec3-9b0a-a70273ef6715",
   "metadata": {},
   "outputs": [
    {
     "data": {
      "text/plain": [
       "array([0.5, 1. , 1.5, 2. , 2.5, 3. , 3.5, 4. , 4.5, 5. ])"
      ]
     },
     "execution_count": 18,
     "metadata": {},
     "output_type": "execute_result"
    }
   ],
   "source": [
    "a = np.array(range(1,11))\n",
    "a / 2"
   ]
  },
  {
   "cell_type": "code",
   "execution_count": 19,
   "id": "8da343a4-c973-4f06-bab8-79cc783a04fb",
   "metadata": {},
   "outputs": [],
   "source": [
    "A = np.array([[1, 2], [3, 4]])\n",
    "B = np.array([[5, 6], [7, 8]])"
   ]
  },
  {
   "cell_type": "code",
   "execution_count": 21,
   "id": "6f64fb23-05fc-4761-9876-fe6a8a3ee6c5",
   "metadata": {},
   "outputs": [
    {
     "data": {
      "text/plain": [
       "array([[ 5, 12],\n",
       "       [21, 32]])"
      ]
     },
     "execution_count": 21,
     "metadata": {},
     "output_type": "execute_result"
    }
   ],
   "source": [
    "A*B"
   ]
  },
  {
   "cell_type": "code",
   "execution_count": 22,
   "id": "5151e220-e982-4a28-93b9-102c918ae13c",
   "metadata": {},
   "outputs": [
    {
     "data": {
      "text/plain": [
       "array([[19, 22],\n",
       "       [43, 50]])"
      ]
     },
     "execution_count": 22,
     "metadata": {},
     "output_type": "execute_result"
    }
   ],
   "source": [
    "#dot product\n",
    "np.dot(A,B)"
   ]
  },
  {
   "cell_type": "code",
   "execution_count": 23,
   "id": "93ab18fe-ffff-4e63-96e7-886db765ba31",
   "metadata": {},
   "outputs": [
    {
     "data": {
      "text/plain": [
       "array([[19, 22],\n",
       "       [43, 50]])"
      ]
     },
     "execution_count": 23,
     "metadata": {},
     "output_type": "execute_result"
    }
   ],
   "source": [
    "A@B"
   ]
  },
  {
   "cell_type": "code",
   "execution_count": 24,
   "id": "ef23dec1-b5b1-430a-aa21-02983377cecb",
   "metadata": {},
   "outputs": [
    {
     "name": "stdout",
     "output_type": "stream",
     "text": [
      "Inverse:\n",
      " [[-2.   1. ]\n",
      " [ 1.5 -0.5]]\n"
     ]
    }
   ],
   "source": [
    "from numpy.linalg import inv\n",
    "\n",
    "A = np.array([[1, 2], [3, 4]])\n",
    "print(\"Inverse:\\n\", inv(A))\n"
   ]
  },
  {
   "cell_type": "code",
   "execution_count": 25,
   "id": "019d94d2-a9fe-4075-b7f6-8fc1ff785558",
   "metadata": {},
   "outputs": [
    {
     "data": {
      "text/plain": [
       "array([[1, 2],\n",
       "       [3, 4]])"
      ]
     },
     "execution_count": 25,
     "metadata": {},
     "output_type": "execute_result"
    }
   ],
   "source": [
    "A"
   ]
  },
  {
   "cell_type": "code",
   "execution_count": 26,
   "id": "3172aa67-f123-4a75-a4e3-171cf0a7529e",
   "metadata": {},
   "outputs": [
    {
     "data": {
      "text/plain": [
       "array([[1, 3],\n",
       "       [2, 4]])"
      ]
     },
     "execution_count": 26,
     "metadata": {},
     "output_type": "execute_result"
    }
   ],
   "source": [
    "A.T"
   ]
  },
  {
   "cell_type": "code",
   "execution_count": 27,
   "id": "668a1d48-c7d2-4cf3-a57c-e3b4cf543828",
   "metadata": {},
   "outputs": [
    {
     "data": {
      "text/plain": [
       "array([[0., 0., 0., 0.],\n",
       "       [0., 0., 0., 0.],\n",
       "       [0., 0., 0., 0.]])"
      ]
     },
     "execution_count": 27,
     "metadata": {},
     "output_type": "execute_result"
    }
   ],
   "source": [
    "np.zeros((3, 4))  # 3x4 matrix of zeros\n"
   ]
  },
  {
   "cell_type": "code",
   "execution_count": 28,
   "id": "03764526-5b30-42de-9f05-ebea8147a9ea",
   "metadata": {},
   "outputs": [
    {
     "data": {
      "text/plain": [
       "array([[1., 1., 1., 1.],\n",
       "       [1., 1., 1., 1.],\n",
       "       [1., 1., 1., 1.],\n",
       "       [1., 1., 1., 1.],\n",
       "       [1., 1., 1., 1.]])"
      ]
     },
     "execution_count": 28,
     "metadata": {},
     "output_type": "execute_result"
    }
   ],
   "source": [
    "np.ones((5, 4))  # 3x4 matrix of zeros\n"
   ]
  },
  {
   "cell_type": "code",
   "execution_count": 30,
   "id": "a66be428-35a3-4bae-9922-bc9b298f9723",
   "metadata": {},
   "outputs": [
    {
     "data": {
      "text/plain": [
       "array([[1., 0., 0., 0.],\n",
       "       [0., 1., 0., 0.],\n",
       "       [0., 0., 1., 0.],\n",
       "       [0., 0., 0., 1.]])"
      ]
     },
     "execution_count": 30,
     "metadata": {},
     "output_type": "execute_result"
    }
   ],
   "source": [
    "np.eye(4)  # 3x4 matrix of zeros\n"
   ]
  },
  {
   "cell_type": "code",
   "execution_count": 33,
   "id": "518e6f79-d886-4d08-b560-d7528f917fcd",
   "metadata": {},
   "outputs": [
    {
     "data": {
      "text/plain": [
       "array([ 0.        ,  0.09433962,  0.18867925,  0.28301887,  0.37735849,\n",
       "        0.47169811,  0.56603774,  0.66037736,  0.75471698,  0.8490566 ,\n",
       "        0.94339623,  1.03773585,  1.13207547,  1.22641509,  1.32075472,\n",
       "        1.41509434,  1.50943396,  1.60377358,  1.69811321,  1.79245283,\n",
       "        1.88679245,  1.98113208,  2.0754717 ,  2.16981132,  2.26415094,\n",
       "        2.35849057,  2.45283019,  2.54716981,  2.64150943,  2.73584906,\n",
       "        2.83018868,  2.9245283 ,  3.01886792,  3.11320755,  3.20754717,\n",
       "        3.30188679,  3.39622642,  3.49056604,  3.58490566,  3.67924528,\n",
       "        3.77358491,  3.86792453,  3.96226415,  4.05660377,  4.1509434 ,\n",
       "        4.24528302,  4.33962264,  4.43396226,  4.52830189,  4.62264151,\n",
       "        4.71698113,  4.81132075,  4.90566038,  5.        ,  5.09433962,\n",
       "        5.18867925,  5.28301887,  5.37735849,  5.47169811,  5.56603774,\n",
       "        5.66037736,  5.75471698,  5.8490566 ,  5.94339623,  6.03773585,\n",
       "        6.13207547,  6.22641509,  6.32075472,  6.41509434,  6.50943396,\n",
       "        6.60377358,  6.69811321,  6.79245283,  6.88679245,  6.98113208,\n",
       "        7.0754717 ,  7.16981132,  7.26415094,  7.35849057,  7.45283019,\n",
       "        7.54716981,  7.64150943,  7.73584906,  7.83018868,  7.9245283 ,\n",
       "        8.01886792,  8.11320755,  8.20754717,  8.30188679,  8.39622642,\n",
       "        8.49056604,  8.58490566,  8.67924528,  8.77358491,  8.86792453,\n",
       "        8.96226415,  9.05660377,  9.1509434 ,  9.24528302,  9.33962264,\n",
       "        9.43396226,  9.52830189,  9.62264151,  9.71698113,  9.81132075,\n",
       "        9.90566038, 10.        , 10.09433962, 10.18867925, 10.28301887,\n",
       "       10.37735849, 10.47169811, 10.56603774, 10.66037736, 10.75471698,\n",
       "       10.8490566 , 10.94339623, 11.03773585, 11.13207547, 11.22641509,\n",
       "       11.32075472, 11.41509434, 11.50943396, 11.60377358, 11.69811321,\n",
       "       11.79245283, 11.88679245, 11.98113208, 12.0754717 , 12.16981132,\n",
       "       12.26415094, 12.35849057, 12.45283019, 12.54716981, 12.64150943,\n",
       "       12.73584906, 12.83018868, 12.9245283 , 13.01886792, 13.11320755,\n",
       "       13.20754717, 13.30188679, 13.39622642, 13.49056604, 13.58490566,\n",
       "       13.67924528, 13.77358491, 13.86792453, 13.96226415, 14.05660377,\n",
       "       14.1509434 , 14.24528302, 14.33962264, 14.43396226, 14.52830189,\n",
       "       14.62264151, 14.71698113, 14.81132075, 14.90566038, 15.        ])"
      ]
     },
     "execution_count": 33,
     "metadata": {},
     "output_type": "execute_result"
    }
   ],
   "source": [
    "# linespace\n",
    "np.linspace(0, 15, 160)  # [0.  0.25 0.5  0.75 1. ]\n"
   ]
  },
  {
   "cell_type": "markdown",
   "id": "67231663-2b50-46c7-a137-13a430682cef",
   "metadata": {},
   "source": [
    "\n",
    "$X$ is a one-dimensional matrix storing time stamps from 1 sec to 3600 sec, for each second. calculate $Y$ form the given expression and the value of $\\omega$ can be taken from the user input\n",
    "$$  Y = sin(2\\pi\\omega X)$$\n",
    "\n",
    "\n",
    "$\\omega = 10$ "
   ]
  },
  {
   "cell_type": "code",
   "execution_count": 36,
   "id": "46701f38-1358-41da-a28d-4f614e4b3325",
   "metadata": {},
   "outputs": [],
   "source": [
    "X = np.linspace(1,3600,3600)\n",
    "\n",
    "\n",
    "Y  = np.sin(2 * (22/7) * 10 * X)"
   ]
  }
 ],
 "metadata": {
  "kernelspec": {
   "display_name": "Python 3 (ipykernel)",
   "language": "python",
   "name": "python3"
  },
  "language_info": {
   "codemirror_mode": {
    "name": "ipython",
    "version": 3
   },
   "file_extension": ".py",
   "mimetype": "text/x-python",
   "name": "python",
   "nbconvert_exporter": "python",
   "pygments_lexer": "ipython3",
   "version": "3.11.8"
  }
 },
 "nbformat": 4,
 "nbformat_minor": 5
}
