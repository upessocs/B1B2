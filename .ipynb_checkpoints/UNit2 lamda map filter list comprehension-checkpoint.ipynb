{
 "cells": [
  {
   "cell_type": "code",
   "execution_count": 1,
   "id": "61b942f2-370b-4615-b853-837ef2b95314",
   "metadata": {},
   "outputs": [
    {
     "data": {
      "text/plain": [
       "30"
      ]
     },
     "execution_count": 1,
     "metadata": {},
     "output_type": "execute_result"
    }
   ],
   "source": [
    "# lambda, map, filter list comprehension\n",
    "\n",
    "# function to add two variables\n",
    "\n",
    "\n",
    "def myadd1(a,b):\n",
    "    res = a + b\n",
    "    return res\n",
    "\n",
    "\n",
    "a=10\n",
    "b=20\n",
    "res = myadd1(a,b)\n",
    "res"
   ]
  },
  {
   "cell_type": "code",
   "execution_count": 5,
   "id": "fff889c5-1a14-4ed5-94dc-8bf1124e71ae",
   "metadata": {},
   "outputs": [
    {
     "name": "stdout",
     "output_type": "stream",
     "text": [
      "<function <lambda> at 0x7f0127a2ee80>\n"
     ]
    },
    {
     "data": {
      "text/plain": [
       "10"
      ]
     },
     "execution_count": 5,
     "metadata": {},
     "output_type": "execute_result"
    }
   ],
   "source": [
    "a = 2\n",
    "b = 5\n",
    "# normal function with def \n",
    "# def mul(a,b):\n",
    "#     return a*b\n",
    "\n",
    "# anonymous function using lambda\n",
    "mul = lambda a, b : a*b\n",
    "\n",
    "print(mul)\n",
    "\n",
    "mul(a,b)\n"
   ]
  },
  {
   "cell_type": "code",
   "execution_count": null,
   "id": "1fb9501b-562c-44d1-9137-ecda70bddb98",
   "metadata": {},
   "outputs": [],
   "source": []
  }
 ],
 "metadata": {
  "kernelspec": {
   "display_name": "Python 3 (ipykernel)",
   "language": "python",
   "name": "python3"
  },
  "language_info": {
   "codemirror_mode": {
    "name": "ipython",
    "version": 3
   },
   "file_extension": ".py",
   "mimetype": "text/x-python",
   "name": "python",
   "nbconvert_exporter": "python",
   "pygments_lexer": "ipython3",
   "version": "3.11.8"
  }
 },
 "nbformat": 4,
 "nbformat_minor": 5
}
