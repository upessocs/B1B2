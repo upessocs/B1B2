{
 "cells": [
  {
   "cell_type": "code",
   "execution_count": 5,
   "id": "09fc8a74-b412-4157-90a4-f966b8a6d326",
   "metadata": {},
   "outputs": [
    {
     "data": {
      "text/plain": [
       "['.git',\n",
       " '.ipynb_checkpoints',\n",
       " 'first.py',\n",
       " 'firstNotebook.ipynb',\n",
       " 'functionScope.py',\n",
       " 'main.py',\n",
       " 'push.sh',\n",
       " 'PythonProgramming_022_20UNIT_20II_20List_copy_20Part1.1.ipynb',\n",
       " 'README.md',\n",
       " 'second.ipynb',\n",
       " 'second.py',\n",
       " 'UNIT II OS module.ipynb',\n",
       " 'Unit2 Functions.ipynb',\n",
       " 'UNit2 lamda map filter list comprehension.ipynb',\n",
       " 'Unit2.ipynb',\n",
       " 'Untitled.ipynb',\n",
       " 'Untitled1.ipynb',\n",
       " 'Untitled2.ipynb']"
      ]
     },
     "execution_count": 5,
     "metadata": {},
     "output_type": "execute_result"
    }
   ],
   "source": []
  },
  {
   "cell_type": "code",
   "execution_count": 4,
   "id": "5a70b3c5-4915-4038-a948-80cc88ad686d",
   "metadata": {},
   "outputs": [
    {
     "name": "stdout",
     "output_type": "stream",
     "text": [
      "/mnt/c/GITHUB/PythonProgrammingUPES/B1B2\n"
     ]
    }
   ],
   "source": [
    "!pwd"
   ]
  },
  {
   "cell_type": "code",
   "execution_count": null,
   "id": "900d649b-6344-4d21-a7c8-c54ed4eb2c8d",
   "metadata": {},
   "outputs": [],
   "source": []
  }
 ],
 "metadata": {
  "kernelspec": {
   "display_name": "Python 3 (ipykernel)",
   "language": "python",
   "name": "python3"
  },
  "language_info": {
   "codemirror_mode": {
    "name": "ipython",
    "version": 3
   },
   "file_extension": ".py",
   "mimetype": "text/x-python",
   "name": "python",
   "nbconvert_exporter": "python",
   "pygments_lexer": "ipython3",
   "version": "3.11.8"
  }
 },
 "nbformat": 4,
 "nbformat_minor": 5
}
