{
 "cells": [
  {
   "cell_type": "code",
   "execution_count": 1,
   "id": "19073c85-e6da-463d-adf1-6187551f5029",
   "metadata": {},
   "outputs": [
    {
     "name": "stdout",
     "output_type": "stream",
     "text": [
      "8\n"
     ]
    }
   ],
   "source": [
    "def add(a, b):\n",
    "\n",
    "    \"\"\"\n",
    "    Function Help or instructions\n",
    "    \n",
    "    Returns the sum of two numbers.\n",
    "    \n",
    "    \"\"\"\n",
    "    return a + b #Calling the function with arguments\n",
    "\n",
    "\n",
    "result = add(5, 3)\n",
    "print(result)  # Output: 8\n",
    "\n"
   ]
  },
  {
   "cell_type": "code",
   "execution_count": 2,
   "id": "682b950c-9696-4ff5-91fb-246a4d780ead",
   "metadata": {},
   "outputs": [
    {
     "name": "stdout",
     "output_type": "stream",
     "text": [
      "Help on function add in module __main__:\n",
      "\n",
      "add(a, b)\n",
      "    Function Help or instructions\n",
      "    \n",
      "    Returns the sum of two numbers.\n",
      "\n"
     ]
    }
   ],
   "source": [
    "help(add)"
   ]
  },
  {
   "cell_type": "code",
   "execution_count": 3,
   "id": "84dc43cd-bb3d-402d-88fc-8f92ea4cec24",
   "metadata": {},
   "outputs": [
    {
     "name": "stdout",
     "output_type": "stream",
     "text": [
      "Help on class list in module builtins:\n",
      "\n",
      "class list(object)\n",
      " |  list(iterable=(), /)\n",
      " |  \n",
      " |  Built-in mutable sequence.\n",
      " |  \n",
      " |  If no argument is given, the constructor creates a new empty list.\n",
      " |  The argument must be an iterable if specified.\n",
      " |  \n",
      " |  Methods defined here:\n",
      " |  \n",
      " |  __add__(self, value, /)\n",
      " |      Return self+value.\n",
      " |  \n",
      " |  __contains__(self, key, /)\n",
      " |      Return key in self.\n",
      " |  \n",
      " |  __delitem__(self, key, /)\n",
      " |      Delete self[key].\n",
      " |  \n",
      " |  __eq__(self, value, /)\n",
      " |      Return self==value.\n",
      " |  \n",
      " |  __ge__(self, value, /)\n",
      " |      Return self>=value.\n",
      " |  \n",
      " |  __getattribute__(self, name, /)\n",
      " |      Return getattr(self, name).\n",
      " |  \n",
      " |  __getitem__(...)\n",
      " |      x.__getitem__(y) <==> x[y]\n",
      " |  \n",
      " |  __gt__(self, value, /)\n",
      " |      Return self>value.\n",
      " |  \n",
      " |  __iadd__(self, value, /)\n",
      " |      Implement self+=value.\n",
      " |  \n",
      " |  __imul__(self, value, /)\n",
      " |      Implement self*=value.\n",
      " |  \n",
      " |  __init__(self, /, *args, **kwargs)\n",
      " |      Initialize self.  See help(type(self)) for accurate signature.\n",
      " |  \n",
      " |  __iter__(self, /)\n",
      " |      Implement iter(self).\n",
      " |  \n",
      " |  __le__(self, value, /)\n",
      " |      Return self<=value.\n",
      " |  \n",
      " |  __len__(self, /)\n",
      " |      Return len(self).\n",
      " |  \n",
      " |  __lt__(self, value, /)\n",
      " |      Return self<value.\n",
      " |  \n",
      " |  __mul__(self, value, /)\n",
      " |      Return self*value.\n",
      " |  \n",
      " |  __ne__(self, value, /)\n",
      " |      Return self!=value.\n",
      " |  \n",
      " |  __repr__(self, /)\n",
      " |      Return repr(self).\n",
      " |  \n",
      " |  __reversed__(self, /)\n",
      " |      Return a reverse iterator over the list.\n",
      " |  \n",
      " |  __rmul__(self, value, /)\n",
      " |      Return value*self.\n",
      " |  \n",
      " |  __setitem__(self, key, value, /)\n",
      " |      Set self[key] to value.\n",
      " |  \n",
      " |  __sizeof__(self, /)\n",
      " |      Return the size of the list in memory, in bytes.\n",
      " |  \n",
      " |  append(self, object, /)\n",
      " |      Append object to the end of the list.\n",
      " |  \n",
      " |  clear(self, /)\n",
      " |      Remove all items from list.\n",
      " |  \n",
      " |  copy(self, /)\n",
      " |      Return a shallow copy of the list.\n",
      " |  \n",
      " |  count(self, value, /)\n",
      " |      Return number of occurrences of value.\n",
      " |  \n",
      " |  extend(self, iterable, /)\n",
      " |      Extend list by appending elements from the iterable.\n",
      " |  \n",
      " |  index(self, value, start=0, stop=9223372036854775807, /)\n",
      " |      Return first index of value.\n",
      " |      \n",
      " |      Raises ValueError if the value is not present.\n",
      " |  \n",
      " |  insert(self, index, object, /)\n",
      " |      Insert object before index.\n",
      " |  \n",
      " |  pop(self, index=-1, /)\n",
      " |      Remove and return item at index (default last).\n",
      " |      \n",
      " |      Raises IndexError if list is empty or index is out of range.\n",
      " |  \n",
      " |  remove(self, value, /)\n",
      " |      Remove first occurrence of value.\n",
      " |      \n",
      " |      Raises ValueError if the value is not present.\n",
      " |  \n",
      " |  reverse(self, /)\n",
      " |      Reverse *IN PLACE*.\n",
      " |  \n",
      " |  sort(self, /, *, key=None, reverse=False)\n",
      " |      Sort the list in ascending order and return None.\n",
      " |      \n",
      " |      The sort is in-place (i.e. the list itself is modified) and stable (i.e. the\n",
      " |      order of two equal elements is maintained).\n",
      " |      \n",
      " |      If a key function is given, apply it once to each list item and sort them,\n",
      " |      ascending or descending, according to their function values.\n",
      " |      \n",
      " |      The reverse flag can be set to sort in descending order.\n",
      " |  \n",
      " |  ----------------------------------------------------------------------\n",
      " |  Class methods defined here:\n",
      " |  \n",
      " |  __class_getitem__(...) from builtins.type\n",
      " |      See PEP 585\n",
      " |  \n",
      " |  ----------------------------------------------------------------------\n",
      " |  Static methods defined here:\n",
      " |  \n",
      " |  __new__(*args, **kwargs) from builtins.type\n",
      " |      Create and return a new object.  See help(type) for accurate signature.\n",
      " |  \n",
      " |  ----------------------------------------------------------------------\n",
      " |  Data and other attributes defined here:\n",
      " |  \n",
      " |  __hash__ = None\n",
      "\n"
     ]
    }
   ],
   "source": [
    "help(list)"
   ]
  },
  {
   "cell_type": "code",
   "execution_count": 9,
   "id": "8b26326c-9438-414c-9f42-60ea7bebb9fb",
   "metadata": {},
   "outputs": [
    {
     "name": "stdout",
     "output_type": "stream",
     "text": [
      "1 2 3\n",
      "result is 21\n"
     ]
    }
   ],
   "source": [
    "def sum2(a,b,c, d = 0, e = 0,f = 0):\n",
    "    print(a,b,c)\n",
    "    res = a + b + c + d + e +f\n",
    "    return res\n",
    "\n",
    "\n",
    "# result = sum2(1,2,3)\n",
    "result = sum2(1, 2, 3 , 4, 5, 6)\n",
    "print(f\"result is { result }\")\n",
    "\n"
   ]
  },
  {
   "cell_type": "code",
   "execution_count": 10,
   "id": "63ea7672-45b6-44ed-ae55-44a09d9a3473",
   "metadata": {},
   "outputs": [
    {
     "name": "stdout",
     "output_type": "stream",
     "text": [
      "1 2 3\n"
     ]
    }
   ],
   "source": [
    "result = sum2(1,2,3)"
   ]
  },
  {
   "cell_type": "code",
   "execution_count": 18,
   "id": "ae141f82-4165-457f-9bbc-c333f144908a",
   "metadata": {},
   "outputs": [],
   "source": [
    "def sum3(a, *args): # *args *values\n",
    "    \"\"\"\n",
    "    this function takes one mandatory argument \n",
    "    and other optional arguments\n",
    "\n",
    "    and return its sum\n",
    "    \n",
    "    \"\"\"\n",
    "    print(a)\n",
    "    print(args)\n",
    "    res=a\n",
    "    for i in range(0,len(args)):\n",
    "        res = res + args[i]\n",
    "    \n",
    "    return res"
   ]
  },
  {
   "cell_type": "code",
   "execution_count": 19,
   "id": "85a1d359-4fb4-4770-ae5a-d1d918dc7c3d",
   "metadata": {},
   "outputs": [
    {
     "name": "stdout",
     "output_type": "stream",
     "text": [
      "1\n",
      "(2, 3, 4)\n"
     ]
    }
   ],
   "source": [
    "res=sum3(1,2,3,4)"
   ]
  },
  {
   "cell_type": "code",
   "execution_count": 20,
   "id": "9503e778-cde9-4f41-8d4d-95fce7d295cd",
   "metadata": {},
   "outputs": [
    {
     "name": "stdout",
     "output_type": "stream",
     "text": [
      "Help on function sum3 in module __main__:\n",
      "\n",
      "sum3(a, *args)\n",
      "    this function takes one mandatory argument \n",
      "    and other optional arguments\n",
      "    \n",
      "    and return its sum\n",
      "\n"
     ]
    }
   ],
   "source": [
    "help(sum3)"
   ]
  },
  {
   "cell_type": "code",
   "execution_count": 2,
   "id": "cbaafe6c-a622-4239-b695-56798a027df2",
   "metadata": {},
   "outputs": [],
   "source": [
    "# print(sum3.__doc__)"
   ]
  },
  {
   "cell_type": "code",
   "execution_count": 22,
   "id": "f1f6a312-5fba-4532-b63d-a5dd64754ad0",
   "metadata": {},
   "outputs": [],
   "source": [
    "\n",
    "dict1 = {\n",
    "    \"name\":\"Raj\",\n",
    "    \"batch\":\"B1\",\n",
    "    \"classTime\":\"8:AM\"\n",
    "    \n",
    "}"
   ]
  },
  {
   "cell_type": "code",
   "execution_count": 23,
   "id": "66edd403-75c6-4929-b049-5608eedba5ec",
   "metadata": {},
   "outputs": [
    {
     "name": "stdout",
     "output_type": "stream",
     "text": [
      "(1, 2, 3) {'a': 1, 'b': 2, 'c': 3}\n"
     ]
    }
   ],
   "source": [
    "def printDictionary(*args,**kwargs): #keyword arguments\n",
    "    print(args,kwargs)\n",
    "\n",
    "printDictionary(1,2,3, a=1, b=2, c=3)"
   ]
  },
  {
   "cell_type": "code",
   "execution_count": null,
   "id": "060f6bb0-e3ff-4244-8238-7b7d22eb963c",
   "metadata": {},
   "outputs": [],
   "source": [
    "ListZ = [1,2,3,4,4]\n",
    "\n",
    "# Hint cumelativeSum of above lis is\n",
    "# [ 1, 3, 6, 10, 14 ]\n",
    "# it should be stored as a list"
   ]
  }
 ],
 "metadata": {
  "kernelspec": {
   "display_name": "Python 3 (ipykernel)",
   "language": "python",
   "name": "python3"
  },
  "language_info": {
   "codemirror_mode": {
    "name": "ipython",
    "version": 3
   },
   "file_extension": ".py",
   "mimetype": "text/x-python",
   "name": "python",
   "nbconvert_exporter": "python",
   "pygments_lexer": "ipython3",
   "version": "3.11.8"
  }
 },
 "nbformat": 4,
 "nbformat_minor": 5
}
