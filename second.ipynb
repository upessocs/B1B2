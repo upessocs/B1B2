{
 "cells": [
  {
   "cell_type": "code",
   "execution_count": 2,
   "id": "b1a8afd6-bb69-4cd0-b74c-49530c9d7653",
   "metadata": {},
   "outputs": [
    {
     "name": "stdout",
     "output_type": "stream",
     "text": [
      "hello world\n",
      "<class 'str'>\n",
      "140398326636272\n"
     ]
    }
   ],
   "source": [
    "str1=\"hello world\"\n",
    "print(str1)\n",
    "print(type(str1))\n",
    "print(id(str1))\n",
    "\n"
   ]
  },
  {
   "cell_type": "code",
   "execution_count": 3,
   "id": "ee399497-283d-48a9-990a-638d9cccf681",
   "metadata": {},
   "outputs": [
    {
     "data": {
      "text/plain": [
       "'hi world'"
      ]
     },
     "execution_count": 3,
     "metadata": {},
     "output_type": "execute_result"
    }
   ],
   "source": [
    "str1 = str1.replace(\"hello\",\"hi\")"
   ]
  },
  {
   "cell_type": "code",
   "execution_count": 4,
   "id": "6d47c41a-006a-4945-8f5e-7bb9ab86025a",
   "metadata": {},
   "outputs": [
    {
     "name": "stdout",
     "output_type": "stream",
     "text": [
      "hello world\n",
      "<class 'str'>\n",
      "140398326636272\n"
     ]
    }
   ],
   "source": [
    "print(str1)\n",
    "print(type(str1))\n",
    "print(id(str1))"
   ]
  },
  {
   "cell_type": "code",
   "execution_count": 5,
   "id": "6046466a-90f6-43a4-b2e6-c09056ed1cf3",
   "metadata": {},
   "outputs": [
    {
     "data": {
      "text/plain": [
       "11"
      ]
     },
     "execution_count": 5,
     "metadata": {},
     "output_type": "execute_result"
    }
   ],
   "source": [
    "len(str1)"
   ]
  },
  {
   "cell_type": "code",
   "execution_count": 7,
   "id": "78191d22-7c35-4bf1-984b-457c31dcbaf0",
   "metadata": {},
   "outputs": [
    {
     "data": {
      "text/plain": [
       "('0123456789', 10)"
      ]
     },
     "execution_count": 7,
     "metadata": {},
     "output_type": "execute_result"
    }
   ],
   "source": [
    "str2=\"0123456789\"\n",
    "str2, len(str2)"
   ]
  },
  {
   "cell_type": "code",
   "execution_count": 12,
   "id": "5c9b7b44-9d52-437e-9e49-9c805767e7b9",
   "metadata": {},
   "outputs": [
    {
     "data": {
      "text/plain": [
       "'8'"
      ]
     },
     "execution_count": 12,
     "metadata": {},
     "output_type": "execute_result"
    }
   ],
   "source": [
    "str2[-2]"
   ]
  },
  {
   "cell_type": "code",
   "execution_count": 14,
   "id": "a1c17f1f-1ce5-4bc0-9438-3058288a0c2d",
   "metadata": {},
   "outputs": [
    {
     "data": {
      "text/plain": [
       "'0123456789'"
      ]
     },
     "execution_count": 14,
     "metadata": {},
     "output_type": "execute_result"
    }
   ],
   "source": [
    "str2[0:len(str2)]"
   ]
  },
  {
   "cell_type": "code",
   "execution_count": 17,
   "id": "ab31203d-7b17-436e-9697-67fee6cf683e",
   "metadata": {},
   "outputs": [
    {
     "data": {
      "text/plain": [
       "5.0"
      ]
     },
     "execution_count": 17,
     "metadata": {},
     "output_type": "execute_result"
    }
   ],
   "source": [
    "bool(float(int(10/2)))\n"
   ]
  },
  {
   "cell_type": "code",
   "execution_count": 22,
   "id": "c8ea38c1-7a68-407c-ac99-a8d067d33f6d",
   "metadata": {},
   "outputs": [
    {
     "data": {
      "text/plain": [
       "True"
      ]
     },
     "execution_count": 22,
     "metadata": {},
     "output_type": "execute_result"
    }
   ],
   "source": [
    "bool(100)"
   ]
  },
  {
   "cell_type": "code",
   "execution_count": 25,
   "id": "fe3a0bcd-e1fe-433d-b670-568f4479371f",
   "metadata": {},
   "outputs": [
    {
     "data": {
      "text/plain": [
       "1000"
      ]
     },
     "execution_count": 25,
     "metadata": {},
     "output_type": "execute_result"
    }
   ],
   "source": [
    "10**3"
   ]
  },
  {
   "cell_type": "code",
   "execution_count": 27,
   "id": "730a419a-4ead-4e1d-90ef-5089a9a89aec",
   "metadata": {},
   "outputs": [
    {
     "data": {
      "text/plain": [
       "100"
      ]
     },
     "execution_count": 27,
     "metadata": {},
     "output_type": "execute_result"
    }
   ],
   "source": [
    "1001//10"
   ]
  },
  {
   "cell_type": "code",
   "execution_count": 28,
   "id": "9fccb1ed-c8ad-41ae-abab-41fba63e6947",
   "metadata": {},
   "outputs": [],
   "source": [
    "a=1\n",
    "b=1"
   ]
  },
  {
   "cell_type": "code",
   "execution_count": 32,
   "id": "9d1a6945-6e4b-401d-b898-30c8029fb05c",
   "metadata": {},
   "outputs": [
    {
     "data": {
      "text/plain": [
       "True"
      ]
     },
     "execution_count": 32,
     "metadata": {},
     "output_type": "execute_result"
    }
   ],
   "source": [
    "a>=b"
   ]
  },
  {
   "cell_type": "code",
   "execution_count": 33,
   "id": "d7bde18f-5868-42f7-a8e5-9b1357974b77",
   "metadata": {},
   "outputs": [],
   "source": [
    "a=-1001.00012\n"
   ]
  },
  {
   "cell_type": "code",
   "execution_count": 34,
   "id": "f0de1861-c2cf-4bee-a33f-83b1f188834e",
   "metadata": {},
   "outputs": [
    {
     "data": {
      "text/plain": [
       "-1001.00012"
      ]
     },
     "execution_count": 34,
     "metadata": {},
     "output_type": "execute_result"
    }
   ],
   "source": [
    "a"
   ]
  },
  {
   "cell_type": "code",
   "execution_count": 35,
   "id": "c589d041-bf3c-47e9-acfd-7e7535d58a9d",
   "metadata": {},
   "outputs": [
    {
     "data": {
      "text/plain": [
       "1001.00012"
      ]
     },
     "execution_count": 35,
     "metadata": {},
     "output_type": "execute_result"
    }
   ],
   "source": [
    "abs(a)"
   ]
  },
  {
   "cell_type": "code",
   "execution_count": 38,
   "id": "04da27f1-a0a5-48fd-8ddf-bb517a07ad79",
   "metadata": {},
   "outputs": [
    {
     "data": {
      "text/plain": [
       "-1001.0"
      ]
     },
     "execution_count": 38,
     "metadata": {},
     "output_type": "execute_result"
    }
   ],
   "source": [
    "round(a,3)"
   ]
  },
  {
   "cell_type": "code",
   "execution_count": 39,
   "id": "0b6af6af-ba81-4ed7-b599-1d7045e5e246",
   "metadata": {},
   "outputs": [
    {
     "data": {
      "text/plain": [
       "[1, 2, 3]"
      ]
     },
     "execution_count": 39,
     "metadata": {},
     "output_type": "execute_result"
    }
   ],
   "source": [
    "a= [ 1, 2, 3 ]\n",
    "a"
   ]
  },
  {
   "cell_type": "code",
   "execution_count": 40,
   "id": "c37aea2f-555c-4323-89b0-7f262f742e9a",
   "metadata": {},
   "outputs": [
    {
     "data": {
      "text/plain": [
       "1"
      ]
     },
     "execution_count": 40,
     "metadata": {},
     "output_type": "execute_result"
    }
   ],
   "source": [
    "min(a)"
   ]
  },
  {
   "cell_type": "code",
   "execution_count": 41,
   "id": "47dd61b1-db7f-4c5b-ae98-bd2d89dcfa0f",
   "metadata": {},
   "outputs": [
    {
     "data": {
      "text/plain": [
       "3"
      ]
     },
     "execution_count": 41,
     "metadata": {},
     "output_type": "execute_result"
    }
   ],
   "source": [
    "max(a)"
   ]
  },
  {
   "cell_type": "code",
   "execution_count": 42,
   "id": "ac9fd9d1-a602-4ee8-94c8-f111dbe422e7",
   "metadata": {},
   "outputs": [
    {
     "data": {
      "text/plain": [
       "6"
      ]
     },
     "execution_count": 42,
     "metadata": {},
     "output_type": "execute_result"
    }
   ],
   "source": [
    "sum(a)"
   ]
  },
  {
   "cell_type": "code",
   "execution_count": 47,
   "id": "06590e37-847d-4971-b491-e847c8f818a3",
   "metadata": {},
   "outputs": [
    {
     "name": "stdin",
     "output_type": "stream",
     "text": [
      "Enter your name:  10\n"
     ]
    }
   ],
   "source": [
    "name = input(\"Enter your name: \")  # User inputs \"Alice\"\n",
    "\n"
   ]
  },
  {
   "cell_type": "code",
   "execution_count": 48,
   "id": "27e74910-9260-413a-bbed-c9e1533e1d04",
   "metadata": {},
   "outputs": [
    {
     "data": {
      "text/plain": [
       "'10'"
      ]
     },
     "execution_count": 48,
     "metadata": {},
     "output_type": "execute_result"
    }
   ],
   "source": [
    "name"
   ]
  },
  {
   "cell_type": "code",
   "execution_count": 49,
   "id": "c9931548-b720-4ac8-8724-6f5c9acb0ad1",
   "metadata": {},
   "outputs": [],
   "source": [
    "import sys"
   ]
  },
  {
   "cell_type": "code",
   "execution_count": 52,
   "id": "69c4b506-15f3-44ab-bd17-de1af7d7d320",
   "metadata": {},
   "outputs": [
    {
     "name": "stdout",
     "output_type": "stream",
     "text": [
      "28\n"
     ]
    }
   ],
   "source": [
    "print(sys.getsizeof(a))"
   ]
  },
  {
   "cell_type": "code",
   "execution_count": 51,
   "id": "0f73f890-c0e0-45d8-a521-c29df54e1240",
   "metadata": {},
   "outputs": [],
   "source": [
    "a=1"
   ]
  },
  {
   "cell_type": "code",
   "execution_count": 53,
   "id": "812b3710-4d1e-4eb2-9326-e2044deee6b2",
   "metadata": {},
   "outputs": [],
   "source": [
    "# basic syntax of function\n",
    "\n",
    "def myprint(testvar):\n",
    "    print(f\"value is {testvar}\")\n",
    "    print(f\"id is {id(testvar)}\")\n",
    "\n",
    "\n",
    "    print(f\"type is {type(testvar)}\")\n",
    "    "
   ]
  },
  {
   "cell_type": "code",
   "execution_count": 54,
   "id": "6f4ac000-5585-45cb-bd20-a534ec95d765",
   "metadata": {},
   "outputs": [
    {
     "name": "stdout",
     "output_type": "stream",
     "text": [
      "value is 1\n",
      "id is 140398446342280\n",
      "type is <class 'int'>\n"
     ]
    }
   ],
   "source": [
    "myprint(a)"
   ]
  },
  {
   "cell_type": "code",
   "execution_count": null,
   "id": "0cf9b269-7a75-45c6-ba8d-82e3a73dd5cd",
   "metadata": {},
   "outputs": [],
   "source": []
  }
 ],
 "metadata": {
  "kernelspec": {
   "display_name": "Python 3 (ipykernel)",
   "language": "python",
   "name": "python3"
  },
  "language_info": {
   "codemirror_mode": {
    "name": "ipython",
    "version": 3
   },
   "file_extension": ".py",
   "mimetype": "text/x-python",
   "name": "python",
   "nbconvert_exporter": "python",
   "pygments_lexer": "ipython3",
   "version": "3.11.8"
  }
 },
 "nbformat": 4,
 "nbformat_minor": 5
}
