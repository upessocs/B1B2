{
 "cells": [
  {
   "cell_type": "code",
   "execution_count": null,
   "id": "4adb47bc-5084-4afc-bb10-ce52757ef179",
   "metadata": {},
   "outputs": [],
   "source": [
    "# waf that generates list of email addresses using list of sapids\n",
    "\n",
    "# generate email address using sapid\n",
    "# sapid\n",
    "# 12431324134\n",
    "# email\n",
    "# 12431324134@stu.upes.ac.in\n",
    "# using\n",
    "# 1. functions/for loop \n",
    "# 2. map/filter and lambda\n",
    "# 3. list comprehension\n",
    "\n",
    "\n",
    "sapids = [123,234324,345345,4545]\n",
    "\n",
    "list_of_emails =# your logic"
   ]
  },
  {
   "cell_type": "code",
   "execution_count": 1,
   "id": "c39e103b-d98b-4845-86ca-138066331e7c",
   "metadata": {},
   "outputs": [
    {
     "data": {
      "text/plain": [
       "['123@stu.upes.ac.in',\n",
       " '234324@stu.upes.ac.in',\n",
       " '345345@stu.upes.ac.in',\n",
       " '4545@stu.upes.ac.in']"
      ]
     },
     "execution_count": 1,
     "metadata": {},
     "output_type": "execute_result"
    }
   ],
   "source": [
    "# 1st logic\n",
    "\n",
    "sapids = [123,234324,345345,4545]\n",
    "def id2email(id):\n",
    "    # return str(id) + \"@stu.upes.ac.in\"\n",
    "    return f\"{ id }@stu.upes.ac.in\"\n",
    "    \n",
    "emails=[]\n",
    "for id in sapids:\n",
    "    email = id2email(id)\n",
    "    emails.append(email)\n",
    "\n",
    "list_of_emails = emails\n",
    "list_of_emails\n",
    "\n",
    "\n",
    "\n",
    "# def sapids_to_emails(sapids):\n",
    "#     emails = []\n",
    "#     for id in sapids:\n",
    "#         email = id2email(id)\n",
    "#         emails.append(email)\n",
    "\n",
    "#     return emails\n",
    "\n",
    "\n",
    "# list_of_emails = sapids_to_emails(sapids)\n",
    "\n"
   ]
  },
  {
   "cell_type": "code",
   "execution_count": 2,
   "id": "43abddf3-3137-403e-93fb-04c794f00458",
   "metadata": {},
   "outputs": [
    {
     "data": {
      "text/plain": [
       "['123@stu.upes.ac.in',\n",
       " '234324@stu.upes.ac.in',\n",
       " '345345@stu.upes.ac.in',\n",
       " '4545@stu.upes.ac.in']"
      ]
     },
     "execution_count": 2,
     "metadata": {},
     "output_type": "execute_result"
    }
   ],
   "source": [
    "# 1st logic using map and functions\n",
    "\n",
    "sapids = [123,234324,345345,4545]\n",
    "def id2email(id):\n",
    "    return str(id) + \"@stu.upes.ac.in\"\n",
    "\n",
    "\n",
    "# list_of_emails = map(id2email,sapids) # for python2\n",
    "\n",
    "list_of_emails = list( map(id2email,sapids)) # for python3\n",
    "list_of_emails\n",
    "\n",
    "\n"
   ]
  },
  {
   "cell_type": "code",
   "execution_count": 3,
   "id": "67149993-1db9-4e7e-a69c-11a09f57cbbf",
   "metadata": {},
   "outputs": [
    {
     "data": {
      "text/plain": [
       "['123@stu.upes.ac.in',\n",
       " '234324@stu.upes.ac.in',\n",
       " '345345@stu.upes.ac.in',\n",
       " '4545@stu.upes.ac.in']"
      ]
     },
     "execution_count": 3,
     "metadata": {},
     "output_type": "execute_result"
    }
   ],
   "source": [
    "# 2nd logic using map and lambda\n",
    "\n",
    "sapids = [123,234324,345345,4545]\n",
    "\n",
    "list_of_emails = list(map(lambda id: str(id) + \"@stu.upes.ac.in\" , sapids)) # for python3\n",
    "list_of_emails\n"
   ]
  },
  {
   "cell_type": "code",
   "execution_count": 5,
   "id": "dadd194c-83b1-4a87-98d8-33b74ef32410",
   "metadata": {},
   "outputs": [
    {
     "data": {
      "text/plain": [
       "['123@stu.upes.ac.in',\n",
       " '234324@stu.upes.ac.in',\n",
       " '345345@stu.upes.ac.in',\n",
       " '4545@stu.upes.ac.in']"
      ]
     },
     "execution_count": 5,
     "metadata": {},
     "output_type": "execute_result"
    }
   ],
   "source": [
    "# 3rd logic using list comprehension\n",
    "\n",
    "sapids = [123,234324,345345,4545]\n",
    "\n",
    "list_of_emails = [ f\"{ id }@stu.upes.ac.in\" for id in sapids ]\n",
    "list_of_emails"
   ]
  },
  {
   "cell_type": "code",
   "execution_count": null,
   "id": "5d29c1b0-5887-42b5-85a0-cafe51e64ea8",
   "metadata": {},
   "outputs": [],
   "source": [
    "\n",
    "\n",
    "\n"
   ]
  }
 ],
 "metadata": {
  "kernelspec": {
   "display_name": "Python 3 (ipykernel)",
   "language": "python",
   "name": "python3"
  },
  "language_info": {
   "codemirror_mode": {
    "name": "ipython",
    "version": 3
   },
   "file_extension": ".py",
   "mimetype": "text/x-python",
   "name": "python",
   "nbconvert_exporter": "python",
   "pygments_lexer": "ipython3",
   "version": "3.11.8"
  }
 },
 "nbformat": 4,
 "nbformat_minor": 5
}
